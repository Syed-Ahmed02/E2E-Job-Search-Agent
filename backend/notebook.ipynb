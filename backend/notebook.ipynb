{
 "cells": [
  {
   "cell_type": "code",
   "execution_count": 21,
   "id": "a81c5132",
   "metadata": {},
   "outputs": [],
   "source": [
    "from langchain.tools import tool\n",
    "from langchain_exa import ExaSearchRetriever\n",
    "from langchain_huggingface import HuggingFaceEmbeddings\n",
    "from langchain_chroma import Chroma\n",
    "import os\n",
    "from dotenv import load_dotenv\n",
    "\n",
    "from typing import Annotated\n",
    "import chromadb\n",
    "import requests\n",
    "load_dotenv()\n",
    "\n",
    "EXA_API_KEY = os.getenv(\"EXA_API_KEY\")\n",
    "GOOGLE_API_KEY = os.getenv(\"GOOGLE_API_KEY\")\n",
    "GOOGLE_CSE_ID = os.getenv(\"GOOGLE_CSE_ID\") \n",
    "CHROME_API_KEY = os.getenv(\"CHROME_API_KEY\")\n",
    "CHROMA_API_KEY = os.getenv(\"CHROMA_API_KEY\")\n"
   ]
  },
  {
   "cell_type": "code",
   "execution_count": 22,
   "id": "fbeaa835",
   "metadata": {},
   "outputs": [],
   "source": [
    "exa_retriever = ExaSearchRetriever(api_key=EXA_API_KEY, k=3, highlights=True)\n",
    "@tool\n",
    "def exa_search(query: Annotated[str, \"The query to execute to find key summary information.\"]):\n",
    "    \"\"\"Use Exa Search to find key summary information\"\"\"\n",
    "    results = exa_retriever.get_relevant_documents(query)\n",
    "    return results\n",
    "\n",
    "@tool\n",
    "def google_search(query: Annotated[str, \"The boolean search query to execute to find key summary information.\"]):\n",
    "    \"\"\"Given a google boolean search query, return the top 10 results\"\"\"\n",
    "    params = {\n",
    "        \"key\": GOOGLE_API_KEY,\n",
    "        \"cx\": GOOGLE_CSE_ID,\n",
    "        \"q\": query,\n",
    "        # Optional: restrict to last month -> d = days, w = weeks, m = months, y = years\n",
    "        \"num\": 10,             # 1..10 per page\n",
    "        \"safe\": \"off\",\n",
    "        \"lr\": \"lang_en\",       # optional language\n",
    "    }\n",
    "    resp = requests.get(\"https://www.googleapis.com/customsearch/v1\", params=params, timeout=20)\n",
    "    resp.raise_for_status()\n",
    "    data = resp.json()  \n",
    "    \n",
    "    results = [\n",
    "    {\n",
    "        \"title\": item.get(\"title\"),\n",
    "        \"link\": item.get(\"link\"),\n",
    "        \"snippet\": item.get(\"snippet\"),\n",
    "        \"displayLink\": item.get(\"displayLink\"),\n",
    "    }\n",
    "        for item in data.get(\"items\", [])\n",
    "    ]\n",
    "    \n",
    "    return results\n",
    "\n",
    "\n"
   ]
  },
  {
   "cell_type": "code",
   "execution_count": 23,
   "id": "ea9bc29e",
   "metadata": {},
   "outputs": [
    {
     "name": "stderr",
     "output_type": "stream",
     "text": [
      "c:\\Users\\syeda\\OneDrive\\Desktop\\Syed\\Dev\\E2E-Job-Search-Agent\\backend\\.venv\\Lib\\site-packages\\tqdm\\auto.py:21: TqdmWarning: IProgress not found. Please update jupyter and ipywidgets. See https://ipywidgets.readthedocs.io/en/stable/user_install.html\n",
      "  from .autonotebook import tqdm as notebook_tqdm\n"
     ]
    },
    {
     "data": {
      "text/plain": [
       "[Document(id='job_997_skills', metadata={'job_title': 'Applied AI Engineer', 'salary': '', 'document_type': 'skills', 'apply_link': 'https://grnh.se/ec4c4abe7us?source=LinkedIn', 'skills': 'pytorch, ai, vite, machine learning, go', 'source': 'apify', 'company_name': 'xAI', 'location': 'Palo Alto, CA', 'experience_level': 'Senior', 'job_id': 'job_997'}, page_content='Job: Applied AI Engineer at xAI\\nLocation: Palo Alto, CA\\n\\nRequired Skills: pytorch, ai, vite, machine learning, go\\n\\nExperience Level: Senior\\n\\nSalary: Not specified'),\n",
       " Document(id='job_1633_skills', metadata={'salary': '', 'skills': 'python, ai, api', 'location': 'Fort Meade, MD', 'document_type': 'skills', 'job_title': 'Senior Applied AI Engineer', 'apply_link': 'https://www.indeed.com/viewjob?jk=717173d479280625&utm_campaign=google_jobs_apply&utm_source=google_jobs_apply&utm_medium=organic', 'experience_level': 'Senior', 'company_name': 'Neural Solutions', 'source': 'rapid_api', 'job_id': 'job_1633'}, page_content='Job: Senior Applied AI Engineer at Neural Solutions\\nLocation: Fort Meade, MD\\n\\nRequired Skills: python, ai, api\\n\\nExperience Level: Senior\\n\\nSalary: Not specified')]"
      ]
     },
     "execution_count": 23,
     "metadata": {},
     "output_type": "execute_result"
    }
   ],
   "source": [
    "client = chromadb.CloudClient(\n",
    "  api_key=CHROMA_API_KEY,\n",
    "  tenant='361f16d2-3a10-4479-854c-519de88ae973',\n",
    "  database='job_search_db'\n",
    ")\n",
    "embeddings = HuggingFaceEmbeddings(\n",
    "            model_name=\"sentence-transformers/all-MiniLM-L6-v2\",\n",
    "            model_kwargs={'device': 'cpu'}\n",
    "        )\n",
    "vector_store = Chroma(\n",
    "    client=client,\n",
    "    collection_name=\"skills_jobs\",\n",
    "    embedding_function=embeddings\n",
    ")\n",
    "retriever = vector_store.as_retriever(search_type=\"similarity\", search_kwargs={\"k\":2})\n",
    "\n",
    "retriever.invoke(\"Ai Engineering\")"
   ]
  },
  {
   "cell_type": "code",
   "execution_count": null,
   "id": "0070747d",
   "metadata": {},
   "outputs": [],
   "source": [
    "\n"
   ]
  },
  {
   "cell_type": "code",
   "execution_count": null,
   "id": "4ae0086d",
   "metadata": {},
   "outputs": [],
   "source": [
    "\n"
   ]
  },
  {
   "cell_type": "code",
   "execution_count": null,
   "id": "57696cb9",
   "metadata": {},
   "outputs": [],
   "source": [
    "\n"
   ]
  },
  {
   "cell_type": "code",
   "execution_count": null,
   "id": "5433f7d0",
   "metadata": {},
   "outputs": [],
   "source": [
    "\n"
   ]
  },
  {
   "cell_type": "code",
   "execution_count": null,
   "id": "830ef6dc",
   "metadata": {},
   "outputs": [],
   "source": [
    "\n"
   ]
  },
  {
   "cell_type": "code",
   "execution_count": null,
   "id": "5c6eda74",
   "metadata": {},
   "outputs": [],
   "source": [
    "\n"
   ]
  }
 ],
 "metadata": {
  "kernelspec": {
   "display_name": ".venv",
   "language": "python",
   "name": "python3"
  },
  "language_info": {
   "codemirror_mode": {
    "name": "ipython",
    "version": 3
   },
   "file_extension": ".py",
   "mimetype": "text/x-python",
   "name": "python",
   "nbconvert_exporter": "python",
   "pygments_lexer": "ipython3",
   "version": "3.11.9"
  }
 },
 "nbformat": 4,
 "nbformat_minor": 5
}
